{
 "cells": [
  {
   "cell_type": "markdown",
   "metadata": {},
   "source": [
    "# Compare r-band magnitudes\n",
    "Plot measured CFIS r-band magnitudes vs. public CFHTLenS r-band from matched catalogue in W3 area."
   ]
  },
  {
   "cell_type": "code",
   "execution_count": null,
   "metadata": {
    "collapsed": true
   },
   "outputs": [],
   "source": [
    "import os\n",
    "import sys\n",
    "\n",
    "from functions import *\n",
    "import params_ps3pi_cfis as params"
   ]
  },
  {
   "cell_type": "code",
   "execution_count": null,
   "metadata": {
    "collapsed": true
   },
   "outputs": [],
   "source": [
    "path = f\"{os.environ['CONDA_PREFIX']}../shapepipe/lib/python3.8/site-packages\"\n",
    "sys.path.append(path)\n",
    "from shapepipe.utilities.canfar import download"
   ]
  },
  {
   "cell_type": "markdown",
   "metadata": {},
   "source": [
    "## Download catalogue\n",
    "Automatically skipped if already available"
   ]
  },
  {
   "cell_type": "code",
   "execution_count": null,
   "metadata": {
    "collapsed": true
   },
   "outputs": [],
   "source": [
    "vos_dir = 'vos:cfis/cosmostat/catalogues/multi_band_matched/W3_deep23'\n",
    "cat_name = 'R_CFHT_vs_CFIS.csv'\n",
    "download(f'{vos_dir}/{cat_name}', cat_name, verbose=True)"
   ]
  },
  {
   "cell_type": "code",
   "execution_count": null,
   "metadata": {
    "collapsed": true
   },
   "outputs": [],
   "source": [
    "CFHT_CFIS = pd.read_csv(cat_name)\n",
    "CFHT_CFIS = CFHT_CFIS.dropna()\n",
    "\n",
    "MAG_r = CFHT_CFIS['MAG_r'].values\n",
    "MAG_AUTO_R = CFHT_CFIS['MAG_AUTO_R'].values\n",
    "\n",
    "fig = plt.figure(figsize=(7,7), tight_layout=False)\n",
    "\n",
    "ax = fig.add_subplot(111)\n",
    "ax.set_facecolor('white')\n",
    "ax.grid(True, color='grey', lw=0.5)\n",
    "ax.set_ylabel('$r - r_\\\\mathrm{{CFHTLenS}}$', size=25)\n",
    "ax.set_xlabel('$r$', size=25)\n",
    "\n",
    "dr = MAG_r - MAG_AUTO_R\n",
    "counts, ybins, xbins, image = ax.hist2d(MAG_r, dr, bins=50, cmap='gist_yarg')\n",
    "ax.contour(counts.transpose(), extent=[xbins.min(),xbins.max(),ybins.min(),ybins.max()],linewidths=3)\n",
    "#ax.contour(im[1], im[2])\n",
    "\n",
    "xmin = np.amin(MAG_AUTO_R)\n",
    "xmax = 25\n",
    "ax.set_xlim(xmin, xmax)\n",
    "ax.set_ylim([-1.0, 1.0])\n",
    "\n",
    "plt.subplots_adjust(bottom=0, top=1, left=0, right=1)\n",
    "\n",
    "ax.plot([xmin, 25], [0, 0], linewidth=1, color='k', linestyle='--')\n",
    "\n",
    "deg = 0\n",
    "coef, cov = np.polyfit(MAG_r, dr, deg, cov=True)\n",
    "dm = np.sqrt(cov[0])[0]\n",
    "print(f'offset = {coef[0]:.2g} +/- {dm:.2g}')\n",
    "func = np.poly1d(coef, )\n",
    "ax.plot(MAG_r, func(MAG_r), '--r', linewidth=1)\n",
    "#ax.plot(MAG_r, func(MAG_r) + dm, '--b', linewidth=1)\n",
    "#ax.plot(MAG_r, func(MAG_r) - dm, '--b', linewidth=1)\n",
    "\n",
    "plt.savefig('R_CFHT_vs_R_CFIS.pdf', bbox_inches='tight', transparent=True)\n",
    "plt.show()"
   ]
  },
  {
   "cell_type": "code",
   "execution_count": null,
   "metadata": {
    "collapsed": true
   },
   "outputs": [],
   "source": [
    "import seaborn as sns\n",
    "import pandas as pd\n",
    "\n",
    "fig = plt.figure(figsize=(7,7), tight_layout=False)\n",
    "\n",
    "df = pd.DataFrame.from_records({'r': MAG_r, 'dr': dr})\n",
    "\n",
    "ax = sns.scatterplot(data=df, x='r', y='dr', s=3)\n",
    "sns.kdeplot(data=df, x='r', y='dr', linewidth=0.5, colo='.2', levels=4)\n",
    "ax.plot([xmin, 25], [0, 0], linewidth=1, color='k', linestyle='--')\n",
    "\n",
    "xlab = ax.set_xlabel('$r$')\n",
    "ylab = ax.set_ylabel('$r - r_\\\\mathrm{{CFHTLenS}}$', size=25)\n",
    "ylim = ax.set_ylim((-1.5, 1.5))\n",
    "\n",
    "plt.savefig('R_CFHT_vs_R_CFIS_sns.pdf', bbox_inches='tight', transparent=True)"
   ]
  }
 ],
 "metadata": {
  "kernelspec": {
   "display_name": "Python 3",
   "language": "python",
   "name": "python3"
  },
  "language_info": {
   "codemirror_mode": {
    "name": "ipython",
    "version": 3
   },
   "file_extension": ".py",
   "mimetype": "text/x-python",
   "name": "python",
   "nbconvert_exporter": "python",
   "pygments_lexer": "ipython3",
   "version": "3.6.8"
  }
 },
 "nbformat": 4,
 "nbformat_minor": 4
}
