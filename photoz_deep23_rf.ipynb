{
 "cells": [
  {
   "cell_type": "markdown",
   "metadata": {},
   "source": [
    "# Photometric redshifts for CFIS in DEEP2+3 field\n",
    "Run random forest."
   ]
  },
  {
   "cell_type": "code",
   "execution_count": 1,
   "metadata": {},
   "outputs": [],
   "source": [
    "import os\n",
    "import sys"
   ]
  },
  {
   "cell_type": "code",
   "execution_count": 2,
   "metadata": {},
   "outputs": [
    {
     "ename": "KeyError",
     "evalue": "'CONDA_PREFIX'",
     "output_type": "error",
     "traceback": [
      "\u001b[0;31m---------------------------------------------------------------------------\u001b[0m",
      "\u001b[0;31mKeyError\u001b[0m                                  Traceback (most recent call last)",
      "\u001b[0;32m<ipython-input-2-7af5079a2072>\u001b[0m in \u001b[0;36m<module>\u001b[0;34m()\u001b[0m\n\u001b[1;32m      1\u001b[0m \u001b[0mpy_v\u001b[0m \u001b[0;34m=\u001b[0m \u001b[0;34m'3.7'\u001b[0m\u001b[0;34m\u001b[0m\u001b[0m\n\u001b[0;32m----> 2\u001b[0;31m \u001b[0mpath\u001b[0m \u001b[0;34m=\u001b[0m \u001b[0;34mf\"{os.environ['CONDA_PREFIX']}/../shapepipe/lib/python{py_v}/site-packages/shapepipe-0.0.2-py{py_v}.egg\"\u001b[0m\u001b[0;34m\u001b[0m\u001b[0m\n\u001b[0m\u001b[1;32m      3\u001b[0m \u001b[0msys\u001b[0m\u001b[0;34m.\u001b[0m\u001b[0mpath\u001b[0m\u001b[0;34m.\u001b[0m\u001b[0mappend\u001b[0m\u001b[0;34m(\u001b[0m\u001b[0mpath\u001b[0m\u001b[0;34m)\u001b[0m\u001b[0;34m\u001b[0m\u001b[0m\n\u001b[1;32m      4\u001b[0m \u001b[0;32mfrom\u001b[0m \u001b[0mshapepipe\u001b[0m\u001b[0;34m.\u001b[0m\u001b[0mutilities\u001b[0m\u001b[0;34m.\u001b[0m\u001b[0mcanfar\u001b[0m \u001b[0;32mimport\u001b[0m \u001b[0mdownload\u001b[0m\u001b[0;34m,\u001b[0m \u001b[0mdir_list\u001b[0m\u001b[0;34m\u001b[0m\u001b[0m\n\u001b[1;32m      5\u001b[0m \u001b[0;32mfrom\u001b[0m \u001b[0mshapepipe\u001b[0m\u001b[0;34m.\u001b[0m\u001b[0mutilities\u001b[0m\u001b[0;34m.\u001b[0m\u001b[0mfile_system\u001b[0m \u001b[0;32mimport\u001b[0m \u001b[0mmkdir\u001b[0m\u001b[0;34m\u001b[0m\u001b[0m\n",
      "\u001b[0;32m/opt/intel/intelpython3/lib/python3.6/os.py\u001b[0m in \u001b[0;36m__getitem__\u001b[0;34m(self, key)\u001b[0m\n\u001b[1;32m    667\u001b[0m         \u001b[0;32mexcept\u001b[0m \u001b[0mKeyError\u001b[0m\u001b[0;34m:\u001b[0m\u001b[0;34m\u001b[0m\u001b[0m\n\u001b[1;32m    668\u001b[0m             \u001b[0;31m# raise KeyError with the original key value\u001b[0m\u001b[0;34m\u001b[0m\u001b[0;34m\u001b[0m\u001b[0m\n\u001b[0;32m--> 669\u001b[0;31m             \u001b[0;32mraise\u001b[0m \u001b[0mKeyError\u001b[0m\u001b[0;34m(\u001b[0m\u001b[0mkey\u001b[0m\u001b[0;34m)\u001b[0m \u001b[0;32mfrom\u001b[0m \u001b[0;32mNone\u001b[0m\u001b[0;34m\u001b[0m\u001b[0m\n\u001b[0m\u001b[1;32m    670\u001b[0m         \u001b[0;32mreturn\u001b[0m \u001b[0mself\u001b[0m\u001b[0;34m.\u001b[0m\u001b[0mdecodevalue\u001b[0m\u001b[0;34m(\u001b[0m\u001b[0mvalue\u001b[0m\u001b[0;34m)\u001b[0m\u001b[0;34m\u001b[0m\u001b[0m\n\u001b[1;32m    671\u001b[0m \u001b[0;34m\u001b[0m\u001b[0m\n",
      "\u001b[0;31mKeyError\u001b[0m: 'CONDA_PREFIX'"
     ]
    }
   ],
   "source": [
    "py_v = '3.7'\n",
    "path = f\"{os.environ['CONDA_PREFIX']}/../shapepipe/lib/python{py_v}/site-packages/shapepipe-0.0.2-py{py_v}.egg\"\n",
    "sys.path.append(path)\n",
    "from shapepipe.utilities.canfar import download, dir_list\n",
    "from shapepipe.utilities.file_system import mkdir"
   ]
  },
  {
   "cell_type": "code",
   "execution_count": 3,
   "metadata": {},
   "outputs": [],
   "source": [
    "import params_ps3pi_cfis as params"
   ]
  },
  {
   "cell_type": "code",
   "execution_count": null,
   "metadata": {},
   "outputs": [],
   "source": [
    "for dir_name in [params.catalog_path, params.matched_path, params.unmatched_path]:\n",
    "    mkdir(dir_name)"
   ]
  },
  {
   "cell_type": "code",
   "execution_count": 4,
   "metadata": {},
   "outputs": [],
   "source": [
    "survey = 'ps3pi_cfis'"
   ]
  },
  {
   "cell_type": "markdown",
   "metadata": {},
   "source": [
    "## Pre-processing\n",
    "\n",
    "### Clean-up previous run(s)"
   ]
  },
  {
   "cell_type": "code",
   "execution_count": null,
   "metadata": {},
   "outputs": [],
   "source": [
    "! python photoz.py --survey $survey --clean True --input params_$survey"
   ]
  },
  {
   "cell_type": "markdown",
   "metadata": {},
   "source": [
    "## Download input catalogs"
   ]
  },
  {
   "cell_type": "code",
   "execution_count": null,
   "metadata": {},
   "outputs": [],
   "source": [
    "from io import StringIO\n",
    "from contextlib import redirect_stdout\n",
    "from shapepipe.utilities.canfar import download, dir_list, vosHandler\n",
    "\n",
    "def Ddir_list(path, verbose=False):\n",
    "    \"\"\"list\n",
    "\n",
    "    List content of path on vos\n",
    "\n",
    "    Parameters\n",
    "    ----------\n",
    "    path : string\n",
    "        path on vos, starts with 'vos:cfis/...'\n",
    "    verbose : bool, optional, default=False\n",
    "        verbose output if True\n",
    "\n",
    "    Raises\n",
    "    ------\n",
    "    HTTPError, KeyError\n",
    "\n",
    "    Returns\n",
    "    -------\n",
    "    vls_out : array of string\n",
    "        file or directory at path\n",
    "    \"\"\"\n",
    "\n",
    "    cmd = 'vls'\n",
    "    sys.argv = [cmd, path]\n",
    "    vls = vosHandler(cmd)\n",
    "\n",
    "    if verbose:\n",
    "        print('Getting vos directory content from vls...')\n",
    "\n",
    "    f = StringIO()\n",
    "\n",
    "    try:\n",
    "        with redirect_stdout(f):\n",
    "            vls()\n",
    "    except:\n",
    "        print('Error during vls command')\n",
    "        raise\n",
    "\n",
    "    vls_out = f.getvalue()\n",
    "    return vls_out.split('\\n')"
   ]
  },
  {
   "cell_type": "code",
   "execution_count": null,
   "metadata": {
    "scrolled": false
   },
   "outputs": [],
   "source": [
    "vos_dir = 'vos:cfis/cosmostat/catalogues/multi_band_matched/W3_deep23'\n",
    "\n",
    "# ...\n",
    "cat_name = 'R_CFHT_vs_CFIS.csv'\n",
    "cat_path = f'{params.catalog_path}/{cat_name}'\n",
    "download(f'{vos_dir}/{cat_name}', cat_path, verbose=True)\n",
    "\n",
    "# Matched and unmatched catalogues\n",
    "vos_dir_matched = f'{vos_dir}/ps3pi_cfis/matched'\n",
    "vos_dir_unmatched = f'{vos_dir}/ps3pi_cfis/unmatched'\n",
    "\n",
    "# If dir_list not found, replace with Ddir_list\n",
    "f_list = dir_list(vos_dir_matched)\n",
    "for f in f_list:\n",
    "    download(f'{vos_dir_matched}/{f}', f'{params.matched_path}/{f}', verbose=True)\n",
    "f_list = dir_list(vos_dir_unmatched)\n",
    "for f in f_list:\n",
    "    download(f'{vos_dir_unmatched}/{f}', f'{params.unmatched_path}/{f}', verbose=True)"
   ]
  },
  {
   "cell_type": "markdown",
   "metadata": {},
   "source": [
    "### Create invidivual tile catalogs"
   ]
  },
  {
   "cell_type": "code",
   "execution_count": null,
   "metadata": {},
   "outputs": [],
   "source": [
    "! python photoz.py --survey $survey --make True --input params_$survey"
   ]
  },
  {
   "cell_type": "markdown",
   "metadata": {},
   "source": [
    "### Join individual tile catalogs"
   ]
  },
  {
   "cell_type": "code",
   "execution_count": null,
   "metadata": {},
   "outputs": [],
   "source": [
    "! python photoz.py --survey $survey --join True --input params_$survey"
   ]
  },
  {
   "cell_type": "markdown",
   "metadata": {},
   "source": [
    "### Create plots of the redshift distributions\n",
    "Figures are saves as `pdf` in `output/ps3pi_cfis/CFIS_matched_deep_2_3_catalog_R/figures`."
   ]
  },
  {
   "cell_type": "code",
   "execution_count": null,
   "metadata": {},
   "outputs": [],
   "source": [
    "! python photoz.py --survey $survey --generate_plots True --input params_$survey"
   ]
  },
  {
   "cell_type": "markdown",
   "metadata": {},
   "source": [
    "## Machine-learning"
   ]
  },
  {
   "cell_type": "markdown",
   "metadata": {},
   "source": [
    "### Train random forest"
   ]
  },
  {
   "cell_type": "code",
   "execution_count": 17,
   "metadata": {},
   "outputs": [
    {
     "name": "stdout",
     "output_type": "stream",
     "text": [
      "MKDEBUG  ps3pi_cfis ['R'] /automnt/n17data/mkilbing/astro/repositories/github/shapepipe_photoz/output/ps3pi_cfis/CFIS_matched_deep_2_3_catalog_R/files/CFIS_matched_deep_2_3_catalog_R.csv CFIS_matched_deep_2_3_catalog_R /automnt/n17data/mkilbing/astro/repositories/github/shapepipe_photoz/ 4 drop 1\r\n"
     ]
    }
   ],
   "source": [
    "! python photoz.py --survey $survey --learning True --preprocess drop --algorithm RF --optimize HyperOpt --input params_$survey"
   ]
  },
  {
   "cell_type": "markdown",
   "metadata": {},
   "source": [
    "### Stand-alone plots"
   ]
  },
  {
   "cell_type": "code",
   "execution_count": 6,
   "metadata": {},
   "outputs": [],
   "source": [
    "from functions import *"
   ]
  },
  {
   "cell_type": "code",
   "execution_count": 40,
   "metadata": {},
   "outputs": [
    {
     "ename": "TypeError",
     "evalue": "plot_zphot_zspec() got an unexpected keyword argument 'y_lim'",
     "output_type": "error",
     "traceback": [
      "\u001b[0;31m---------------------------------------------------------------------------\u001b[0m",
      "\u001b[0;31mTypeError\u001b[0m                                 Traceback (most recent call last)",
      "\u001b[0;32m<ipython-input-40-e4074c6e7657>\u001b[0m in \u001b[0;36m<module>\u001b[0;34m\u001b[0m\n\u001b[1;32m     10\u001b[0m \u001b[0mdf\u001b[0m \u001b[0;34m=\u001b[0m \u001b[0mpd\u001b[0m\u001b[0;34m.\u001b[0m\u001b[0mread_csv\u001b[0m\u001b[0;34m(\u001b[0m\u001b[0myy_path\u001b[0m\u001b[0;34m)\u001b[0m\u001b[0;34m\u001b[0m\u001b[0;34m\u001b[0m\u001b[0m\n\u001b[1;32m     11\u001b[0m \u001b[0mz_max\u001b[0m \u001b[0;34m=\u001b[0m \u001b[0;36m1.3\u001b[0m\u001b[0;34m\u001b[0m\u001b[0;34m\u001b[0m\u001b[0m\n\u001b[0;32m---> 12\u001b[0;31m \u001b[0mML\u001b[0m\u001b[0;34m.\u001b[0m\u001b[0mplot_zphot_zspec\u001b[0m\u001b[0;34m(\u001b[0m\u001b[0mdf\u001b[0m\u001b[0;34m.\u001b[0m\u001b[0my_pred\u001b[0m\u001b[0;34m,\u001b[0m \u001b[0mdf\u001b[0m\u001b[0;34m.\u001b[0m\u001b[0my_test\u001b[0m\u001b[0;34m,\u001b[0m \u001b[0;34m'RF'\u001b[0m\u001b[0;34m,\u001b[0m \u001b[0mz_max\u001b[0m\u001b[0;34m,\u001b[0m \u001b[0my_lim\u001b[0m\u001b[0;34m=\u001b[0m\u001b[0mz_max\u001b[0m\u001b[0;34m,\u001b[0m \u001b[0mxy_min\u001b[0m\u001b[0;34m=\u001b[0m\u001b[0;36m0\u001b[0m\u001b[0;34m)\u001b[0m\u001b[0;34m\u001b[0m\u001b[0;34m\u001b[0m\u001b[0m\n\u001b[0m",
      "\u001b[0;31mTypeError\u001b[0m: plot_zphot_zspec() got an unexpected keyword argument 'y_lim'"
     ]
    }
   ],
   "source": [
    "path_to_files =  params.output_path + 'output/' + survey  + '/' + params.output_name + '/files/'\n",
    "path_to_csv =  f'{path_to_files}/{params.output_name}.csv'\n",
    "ML = LearningAlgorithms(survey=survey, bands=params.bands, path_to_csv=path_to_csv,\n",
    "                        output_name=params.output_name, output_path=params.output_path,\n",
    "                        cv=params.cv, preprocessing='drop', n_jobs=1)\n",
    "\n",
    "\n",
    "method = 'RF_Opt'\n",
    "yy_path = f'{path_to_files}/ML/{method}_prediction_{params.output_name}.csv'\n",
    "df = pd.read_csv(yy_path)\n",
    "z_max = 1.3\n",
    "ML.plot_zphot_zspec(df.y_pred, df.y_test, 'RF', z_max, y_lim=z_max, xy_min=0)"
   ]
  },
  {
   "cell_type": "code",
   "execution_count": 34,
   "metadata": {},
   "outputs": [
    {
     "data": {
      "text/html": [
       "<div>\n",
       "<style scoped>\n",
       "    .dataframe tbody tr th:only-of-type {\n",
       "        vertical-align: middle;\n",
       "    }\n",
       "\n",
       "    .dataframe tbody tr th {\n",
       "        vertical-align: top;\n",
       "    }\n",
       "\n",
       "    .dataframe thead th {\n",
       "        text-align: right;\n",
       "    }\n",
       "</style>\n",
       "<table border=\"1\" class=\"dataframe\">\n",
       "  <thead>\n",
       "    <tr style=\"text-align: right;\">\n",
       "      <th></th>\n",
       "      <th>y_pred</th>\n",
       "      <th>y_test</th>\n",
       "    </tr>\n",
       "  </thead>\n",
       "  <tbody>\n",
       "    <tr>\n",
       "      <th>0</th>\n",
       "      <td>0.807483</td>\n",
       "      <td>3.739988</td>\n",
       "    </tr>\n",
       "    <tr>\n",
       "      <th>1</th>\n",
       "      <td>0.506931</td>\n",
       "      <td>0.280190</td>\n",
       "    </tr>\n",
       "    <tr>\n",
       "      <th>2</th>\n",
       "      <td>0.938688</td>\n",
       "      <td>0.592432</td>\n",
       "    </tr>\n",
       "    <tr>\n",
       "      <th>3</th>\n",
       "      <td>1.113467</td>\n",
       "      <td>0.835395</td>\n",
       "    </tr>\n",
       "    <tr>\n",
       "      <th>4</th>\n",
       "      <td>0.808815</td>\n",
       "      <td>0.629274</td>\n",
       "    </tr>\n",
       "    <tr>\n",
       "      <th>...</th>\n",
       "      <td>...</td>\n",
       "      <td>...</td>\n",
       "    </tr>\n",
       "    <tr>\n",
       "      <th>550</th>\n",
       "      <td>0.402573</td>\n",
       "      <td>0.422956</td>\n",
       "    </tr>\n",
       "    <tr>\n",
       "      <th>551</th>\n",
       "      <td>0.370285</td>\n",
       "      <td>0.533643</td>\n",
       "    </tr>\n",
       "    <tr>\n",
       "      <th>552</th>\n",
       "      <td>0.944577</td>\n",
       "      <td>1.217829</td>\n",
       "    </tr>\n",
       "    <tr>\n",
       "      <th>553</th>\n",
       "      <td>0.293669</td>\n",
       "      <td>0.199628</td>\n",
       "    </tr>\n",
       "    <tr>\n",
       "      <th>554</th>\n",
       "      <td>0.977472</td>\n",
       "      <td>0.992673</td>\n",
       "    </tr>\n",
       "  </tbody>\n",
       "</table>\n",
       "<p>555 rows × 2 columns</p>\n",
       "</div>"
      ],
      "text/plain": [
       "       y_pred    y_test\n",
       "0    0.807483  3.739988\n",
       "1    0.506931  0.280190\n",
       "2    0.938688  0.592432\n",
       "3    1.113467  0.835395\n",
       "4    0.808815  0.629274\n",
       "..        ...       ...\n",
       "550  0.402573  0.422956\n",
       "551  0.370285  0.533643\n",
       "552  0.944577  1.217829\n",
       "553  0.293669  0.199628\n",
       "554  0.977472  0.992673\n",
       "\n",
       "[555 rows x 2 columns]"
      ]
     },
     "execution_count": 34,
     "metadata": {},
     "output_type": "execute_result"
    }
   ],
   "source": [
    "df"
   ]
  },
  {
   "cell_type": "code",
   "execution_count": 25,
   "metadata": {},
   "outputs": [
    {
     "data": {
      "text/plain": [
       "'/automnt/n17data/mkilbing/astro/repositories/github/shapepipe_photoz/output/ps3pi_cfis/CFIS_matched_deep_2_3_catalog_R/files/CFIS_matched_deep_2_3_catalog_R.csv'"
      ]
     },
     "execution_count": 25,
     "metadata": {},
     "output_type": "execute_result"
    }
   ],
   "source": [
    "path_to_csv"
   ]
  },
  {
   "cell_type": "code",
   "execution_count": null,
   "metadata": {},
   "outputs": [],
   "source": []
  }
 ],
 "metadata": {
  "kernelspec": {
   "display_name": "Python 3",
   "language": "python",
   "name": "python3"
  },
  "language_info": {
   "codemirror_mode": {
    "name": "ipython",
    "version": 3
   },
   "file_extension": ".py",
   "mimetype": "text/x-python",
   "name": "python",
   "nbconvert_exporter": "python",
   "pygments_lexer": "ipython3",
   "version": "3.6.3"
  }
 },
 "nbformat": 4,
 "nbformat_minor": 5
}
