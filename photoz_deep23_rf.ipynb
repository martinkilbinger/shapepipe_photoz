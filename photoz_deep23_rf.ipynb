{
 "cells": [
  {
   "cell_type": "markdown",
   "metadata": {},
   "source": [
    "# Photometric redshifts for CFIS in DEEP2+3 field\n",
    "Run random forest."
   ]
  },
  {
   "cell_type": "code",
   "execution_count": null,
   "metadata": {},
   "outputs": [],
   "source": [
    "import os\n",
    "import sys"
   ]
  },
  {
   "cell_type": "code",
   "execution_count": null,
   "metadata": {},
   "outputs": [],
   "source": [
    "py_v = '3.7'\n",
    "path = f\"{os.environ['CONDA_PREFIX']}/../shapepipe/lib/python{py_v}/site-packages/shapepipe-0.0.2-py{py_v}.egg\"\n",
    "sys.path.append(path)\n",
    "from shapepipe.utilities.canfar import download, dir_list\n",
    "from shapepipe.utilities.file_system import mkdir"
   ]
  },
  {
   "cell_type": "code",
   "execution_count": null,
   "metadata": {},
   "outputs": [],
   "source": [
    "import params_ps3pi_cfis as params"
   ]
  },
  {
   "cell_type": "code",
   "execution_count": null,
   "metadata": {},
   "outputs": [],
   "source": [
    "for dir_name in [params.catalog_path, params.matched_path, params.unmatched_path]:\n",
    "    mkdir(dir_name)"
   ]
  },
  {
   "cell_type": "markdown",
   "metadata": {},
   "source": [
    "## Pre-processing\n",
    "\n",
    "### Clean-up previous run(s)"
   ]
  },
  {
   "cell_type": "code",
   "execution_count": null,
   "metadata": {},
   "outputs": [],
   "source": [
    "! python photoz.py --survey ps3pi_cfis --clean True --input params_ps3pi_cfis"
   ]
  },
  {
   "cell_type": "markdown",
   "metadata": {},
   "source": [
    "## Download input catalogs"
   ]
  },
  {
   "cell_type": "code",
   "execution_count": null,
   "metadata": {},
   "outputs": [],
   "source": [
    "from io import StringIO\n",
    "from contextlib import redirect_stdout\n",
    "from shapepipe.utilities.canfar import download, dir_list, vosHandler\n",
    "\n",
    "def Ddir_list(path, verbose=False):\n",
    "    \"\"\"list\n",
    "\n",
    "    List content of path on vos\n",
    "\n",
    "    Parameters\n",
    "    ----------\n",
    "    path : string\n",
    "        path on vos, starts with 'vos:cfis/...'\n",
    "    verbose : bool, optional, default=False\n",
    "        verbose output if True\n",
    "\n",
    "    Raises\n",
    "    ------\n",
    "    HTTPError, KeyError\n",
    "\n",
    "    Returns\n",
    "    -------\n",
    "    vls_out : array of string\n",
    "        file or directory at path\n",
    "    \"\"\"\n",
    "\n",
    "    cmd = 'vls'\n",
    "    sys.argv = [cmd, path]\n",
    "    vls = vosHandler(cmd)\n",
    "\n",
    "    if verbose:\n",
    "        print('Getting vos directory content from vls...')\n",
    "\n",
    "    f = StringIO()\n",
    "\n",
    "    try:\n",
    "        with redirect_stdout(f):\n",
    "            vls()\n",
    "    except:\n",
    "        print('Error during vls command')\n",
    "        raise\n",
    "\n",
    "    vls_out = f.getvalue()\n",
    "    return vls_out.split('\\n')"
   ]
  },
  {
   "cell_type": "code",
   "execution_count": null,
   "metadata": {
    "scrolled": false
   },
   "outputs": [],
   "source": [
    "vos_dir = 'vos:cfis/cosmostat/catalogues/multi_band_matched/W3_deep23'\n",
    "\n",
    "# ...\n",
    "cat_name = 'R_CFHT_vs_CFIS.csv'\n",
    "cat_path = f'{params.catalog_path}/{cat_name}'\n",
    "download(f'{vos_dir}/{cat_name}', cat_path, verbose=True)\n",
    "\n",
    "# Matched and unmatched catalogues\n",
    "vos_dir_matched = f'{vos_dir}/ps3pi_cfis/matched'\n",
    "vos_dir_unmatched = f'{vos_dir}/ps3pi_cfis/unmatched'\n",
    "\n",
    "# If dir_list not found, replace with Ddir_list\n",
    "f_list = dir_list(vos_dir_matched)\n",
    "for f in f_list:\n",
    "    download(f'{vos_dir_matched}/{f}', f'{params.matched_path}/{f}', verbose=True)\n",
    "f_list = dir_list(vos_dir_unmatched)\n",
    "for f in f_list:\n",
    "    download(f'{vos_dir_unmatched}/{f}', f'{params.unmatched_path}/{f}', verbose=True)"
   ]
  },
  {
   "cell_type": "markdown",
   "metadata": {},
   "source": [
    "### Create invidivual tile catalogs"
   ]
  },
  {
   "cell_type": "code",
   "execution_count": null,
   "metadata": {},
   "outputs": [],
   "source": [
    "! python photoz.py --survey ps3pi_cfis --make True --input params_ps3pi_cfis"
   ]
  },
  {
   "cell_type": "markdown",
   "metadata": {},
   "source": [
    "### Join individual tile catalogs"
   ]
  },
  {
   "cell_type": "code",
   "execution_count": null,
   "metadata": {},
   "outputs": [],
   "source": [
    "! python photoz.py --survey ps3pi_cfis --join True --input params_ps3pi_cfis"
   ]
  },
  {
   "cell_type": "markdown",
   "metadata": {},
   "source": [
    "### Create plots of the redshift distributions\n",
    "Figures are saves as `pdf` in `output/ps3pi_cfis/CFIS_matched_deep_2_3_catalog_R/figures`."
   ]
  },
  {
   "cell_type": "code",
   "execution_count": null,
   "metadata": {},
   "outputs": [],
   "source": [
    "! python photoz.py --survey ps3pi_cfis --generate_plots True --input params_ps3pi_cfis"
   ]
  },
  {
   "cell_type": "markdown",
   "metadata": {},
   "source": [
    "## Machine-learning"
   ]
  },
  {
   "cell_type": "markdown",
   "metadata": {},
   "source": [
    "### Train random forest"
   ]
  },
  {
   "cell_type": "code",
   "execution_count": null,
   "metadata": {},
   "outputs": [],
   "source": [
    "! python photoz.py --survey ps3pi_cfis --learning True --preprocess drop --algorithm RF --optimize HyperOpt --input params_ps3pi_cfis"
   ]
  },
  {
   "cell_type": "code",
   "execution_count": null,
   "metadata": {},
   "outputs": [],
   "source": []
  }
 ],
 "metadata": {
  "kernelspec": {
   "display_name": "Python 3",
   "language": "python",
   "name": "python3"
  },
  "language_info": {
   "codemirror_mode": {
    "name": "ipython",
    "version": 3
   },
   "file_extension": ".py",
   "mimetype": "text/x-python",
   "name": "python",
   "nbconvert_exporter": "python",
   "pygments_lexer": "ipython3",
   "version": "3.8.5"
  }
 },
 "nbformat": 4,
 "nbformat_minor": 5
}
