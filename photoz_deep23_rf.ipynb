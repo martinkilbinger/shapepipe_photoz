{
 "cells": [
  {
   "cell_type": "markdown",
   "metadata": {},
   "source": [
    "# Photometric redshifts for CFIS in DEEP2+3 field\n",
    "Run random forest."
   ]
  },
  {
   "cell_type": "code",
   "execution_count": 1,
   "metadata": {},
   "outputs": [],
   "source": [
    "import os\n",
    "import sys"
   ]
  },
  {
   "cell_type": "code",
   "execution_count": 2,
   "metadata": {},
   "outputs": [],
   "source": [
    "#path = f\"{os.environ['CONDA_PREFIX']}/../shapepipe/lib/python3.8/site-packages/shapepipe-0.0.2-py3.8.egg\"\n",
    "#path = '../shapepipe'\n",
    "#sys.path.append(path)\n",
    "from shapepipe.utilities.canfar import download, dir_list\n",
    "from shapepipe.utilities.file_system import mkdir"
   ]
  },
  {
   "cell_type": "code",
   "execution_count": 3,
   "metadata": {},
   "outputs": [],
   "source": [
    "import params_ps3pi_cfis as params"
   ]
  },
  {
   "cell_type": "code",
   "execution_count": 4,
   "metadata": {},
   "outputs": [],
   "source": [
    "for dir_name in [params.catalog_path, params.matched_path, params.unmatched_path]:\n",
    "    mkdir(dir_name)"
   ]
  },
  {
   "cell_type": "markdown",
   "metadata": {},
   "source": [
    "## Pre-processing\n",
    "\n",
    "### Clean-up previous run(s)"
   ]
  },
  {
   "cell_type": "code",
   "execution_count": 5,
   "metadata": {},
   "outputs": [
    {
     "name": "stdout",
     "output_type": "stream",
     "text": [
      "Successfully removed the directory /local/home/mkilbing/astro/repositories/github/shapepipe_photoz/temp/ps3pi_cfis/d2d/ \r\n",
      "Successfully removed the directory /local/home/mkilbing/astro/repositories/github/shapepipe_photoz/temp/ps3pi_cfis/matched/ \r\n",
      "Successfully removed the directory /local/home/mkilbing/astro/repositories/github/shapepipe_photoz/temp/ps3pi_cfis/unmatched/ \r\n",
      "Successfully removed the directory /local/home/mkilbing/astro/repositories/github/shapepipe_photoz/temp/ps3pi_cfis/vignet/ \r\n",
      "Successfully removed the directory /local/home/mkilbing/astro/repositories/github/shapepipe_photoz/temp/ps3pi_cfis/redshift/ \r\n",
      "Successfully removed the directory /local/home/mkilbing/astro/repositories/github/shapepipe_photoz/temp/ps3pi_cfis/spectral_surveys/ \r\n",
      "Successfully created the directory /local/home/mkilbing/astro/repositories/github/shapepipe_photoz/temp/ps3pi_cfis/vignet/R \r\n",
      "Successfully created the directory /local/home/mkilbing/astro/repositories/github/shapepipe_photoz/temp/ps3pi_cfis/vignet/array \r\n",
      "Cleaned directories\r\n"
     ]
    }
   ],
   "source": [
    "! python photoz.py --survey ps3pi_cfis --clean True --input params_ps3pi_cfis"
   ]
  },
  {
   "cell_type": "markdown",
   "metadata": {},
   "source": [
    "## Download input catalogs"
   ]
  },
  {
   "cell_type": "code",
   "execution_count": 6,
   "metadata": {},
   "outputs": [],
   "source": [
    "from io import StringIO\n",
    "from contextlib import redirect_stdout\n",
    "from shapepipe.utilities.canfar import download, dir_list, vosHandler\n",
    "\n",
    "def Ddir_list(path, verbose=False):\n",
    "    \"\"\"list\n",
    "\n",
    "    List content of path on vos\n",
    "\n",
    "    Parameters\n",
    "    ----------\n",
    "    path : string\n",
    "        path on vos, starts with 'vos:cfis/...'\n",
    "    verbose : bool, optional, default=False\n",
    "        verbose output if True\n",
    "\n",
    "    Raises\n",
    "    ------\n",
    "    HTTPError, KeyError\n",
    "\n",
    "    Returns\n",
    "    -------\n",
    "    vls_out : array of string\n",
    "        file or directory at path\n",
    "    \"\"\"\n",
    "\n",
    "    cmd = 'vls'\n",
    "    sys.argv = [cmd, path]\n",
    "    vls = vosHandler(cmd)\n",
    "\n",
    "    if verbose:\n",
    "        print('Getting vos directory content from vls...')\n",
    "\n",
    "    f = StringIO()\n",
    "\n",
    "    try:\n",
    "        with redirect_stdout(f):\n",
    "            vls()\n",
    "    except:\n",
    "        print('Error during vls command')\n",
    "        raise\n",
    "\n",
    "    vls_out = f.getvalue()\n",
    "    return vls_out.split('\\n')"
   ]
  },
  {
   "cell_type": "code",
   "execution_count": null,
   "metadata": {
    "scrolled": false
   },
   "outputs": [
    {
     "name": "stdout",
     "output_type": "stream",
     "text": [
      "Target file catalogs//R_CFHT_vs_CFIS.csv exists, skipping download.\n",
      "Target file catalogs//matched//cat-256-287.fits exists, skipping download.\n",
      "Target file catalogs//matched//cat-258-286.fits exists, skipping download.\n",
      "Downloading file vos:cfis/cosmostat/catalogues/multi_band_matched/W3_deep23/ps3pi_cfis/matched/cat-259-286.fits to catalogs//matched//cat-259-286.fits...\n",
      "Download finished.\n",
      "Downloading file vos:cfis/cosmostat/catalogues/multi_band_matched/W3_deep23/ps3pi_cfis/matched/cat-261-285.fits to catalogs//matched//cat-261-285.fits...\n",
      "Download finished.\n",
      "Downloading file vos:cfis/cosmostat/catalogues/multi_band_matched/W3_deep23/ps3pi_cfis/matched/cat-262-285.fits to catalogs//matched//cat-262-285.fits...\n",
      "Download finished.\n",
      "Target file catalogs//matched// exists, skipping download.\n",
      "Target file catalogs//unmatched//cat_detected-256-287.fits exists, skipping download.\n",
      "Target file catalogs//unmatched//cat_detected-258-286.fits exists, skipping download.\n",
      "Downloading file vos:cfis/cosmostat/catalogues/multi_band_matched/W3_deep23/ps3pi_cfis/unmatched/cat_detected-259-286.fits to catalogs//unmatched//cat_detected-259-286.fits...\n"
     ]
    }
   ],
   "source": [
    "vos_dir = 'vos:cfis/cosmostat/catalogues/multi_band_matched/W3_deep23'\n",
    "\n",
    "# ...\n",
    "cat_name = 'R_CFHT_vs_CFIS.csv'\n",
    "cat_path = f'{params.catalog_path}/{cat_name}'\n",
    "download(f'{vos_dir}/{cat_name}', cat_path, verbose=True)\n",
    "\n",
    "# Matched and unmatched catalogues\n",
    "vos_dir_matched = f'{vos_dir}/ps3pi_cfis/matched'\n",
    "vos_dir_unmatched = f'{vos_dir}/ps3pi_cfis/unmatched'\n",
    "\n",
    "f_list = dir_list(vos_dir_matched)\n",
    "for f in f_list:\n",
    "    download(f'{vos_dir_matched}/{f}', f'{params.matched_path}/{f}', verbose=True)\n",
    "f_list = dir_list(vos_dir_unmatched)\n",
    "for f in f_list:\n",
    "    download(f'{vos_dir_unmatched}/{f}', f'{params.unmatched_path}/{f}', verbose=True)"
   ]
  },
  {
   "cell_type": "markdown",
   "metadata": {},
   "source": [
    "### Create invidivual tile catalogs"
   ]
  },
  {
   "cell_type": "code",
   "execution_count": null,
   "metadata": {},
   "outputs": [],
   "source": [
    "! python photoz.py --survey ps3pi_cfis --make True --input params_ps3pi_cfis"
   ]
  },
  {
   "cell_type": "markdown",
   "metadata": {},
   "source": [
    "### Join individual tile catalogs"
   ]
  },
  {
   "cell_type": "code",
   "execution_count": null,
   "metadata": {},
   "outputs": [],
   "source": [
    "! python photoz.py --survey ps3pi_cfis --join True --input params_ps3pi_cfis"
   ]
  },
  {
   "cell_type": "code",
   "execution_count": null,
   "metadata": {},
   "outputs": [],
   "source": []
  }
 ],
 "metadata": {
  "kernelspec": {
   "display_name": "Python 3",
   "language": "python",
   "name": "python3"
  },
  "language_info": {
   "codemirror_mode": {
    "name": "ipython",
    "version": 3
   },
   "file_extension": ".py",
   "mimetype": "text/x-python",
   "name": "python",
   "nbconvert_exporter": "python",
   "pygments_lexer": "ipython3",
   "version": "3.8.5"
  }
 },
 "nbformat": 4,
 "nbformat_minor": 5
}
