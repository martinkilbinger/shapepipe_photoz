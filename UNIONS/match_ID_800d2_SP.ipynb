{
 "cells": [
  {
   "cell_type": "markdown",
   "metadata": {},
   "source": [
    "# Matched UNIONS 800 deg^2 + ShapePipe shear catalogue\n",
    "Need to join using CFIS_ID."
   ]
  },
  {
   "cell_type": "code",
   "execution_count": 3,
   "metadata": {},
   "outputs": [],
   "source": [
    "import numpy as np\n",
    "import math\n",
    "\n",
    "import pandas as pd\n",
    "import matplotlib.pylab as plt\n",
    "\n",
    "from astropy.io import fits\n",
    "from astropy.coordinates import SkyCoord, match_coordinates_sky\n",
    "import astropy.units as units\n",
    "\n",
    "from collections import Counter\n",
    "\n",
    "from functions import *\n",
    "\n",
    "%matplotlib inline"
   ]
  },
  {
   "cell_type": "markdown",
   "metadata": {},
   "source": [
    "### Read matched ShapePipe shear catalogue"
   ]
  },
  {
   "cell_type": "code",
   "execution_count": 4,
   "metadata": {},
   "outputs": [],
   "source": [
    "base_name_sp = 'shape_catalog_ngmix'\n",
    "\n",
    "hdu = fits.open(f'{base_name_sp}.fits')\n",
    "\n",
    "data = hdu[1].data"
   ]
  },
  {
   "cell_type": "code",
   "execution_count": 5,
   "metadata": {},
   "outputs": [
    {
     "name": "stdout",
     "output_type": "stream",
     "text": [
      "('ra', 'dec', 'g1', 'g2', 'w', 'mag', 'snr', 'g1_uncal', 'g2_uncal', 'CFIS_ID', 'RA', 'Dec', 'distance')\n"
     ]
    }
   ],
   "source": [
    "# Print column names\n",
    "data_keys = data.dtype.names\n",
    "print(data_keys)"
   ]
  },
  {
   "cell_type": "markdown",
   "metadata": {},
   "source": [
    "## Plots"
   ]
  },
  {
   "cell_type": "markdown",
   "metadata": {},
   "source": [
    "### Spatial distribution"
   ]
  },
  {
   "cell_type": "code",
   "execution_count": 6,
   "metadata": {},
   "outputs": [
    {
     "data": {
      "image/png": "[encoded data removed]",
      "text/plain": [
       "<Figure size 432x288 with 1 Axes>"
      ]
     },
     "metadata": {
      "needs_background": "light"
     },
     "output_type": "display_data"
    }
   ],
   "source": [
    "plt.plot(data['ra'], data['dec'], '.')\n",
    "plt.title('UNIONS-800 deg$^2$ + ShapePipe galaxies')\n",
    "plt.xlabel('RA [deg]')\n",
    "_ = plt.ylabel('DEC [deg]')"
   ]
  },
  {
   "cell_type": "code",
   "execution_count": 7,
   "metadata": {},
   "outputs": [],
   "source": [
    "def millify(n):\n",
    "    \"\"\"Millify\n",
    "\n",
    "    Return human-readible names of large numbers\n",
    "\n",
    "    Parameters\n",
    "    ----------\n",
    "    n : int\n",
    "        input number\n",
    "\n",
    "    Returns\n",
    "    -------\n",
    "    s : string\n",
    "        output name\n",
    "    \"\"\"\n",
    "\n",
    "    millnames = ['',' Thousand',' Million',' Billion',' Trillion']\n",
    "\n",
    "    n = float(n)\n",
    "    millidx = max(\n",
    "        0,\n",
    "        min(\n",
    "            len(millnames) - 1,\n",
    "            int(math.floor(0 if n == 0 else math.log10(abs(n)) / 3))\n",
    "        )\n",
    "    )\n",
    "\n",
    "    return '{:.0f}{}'.format(n / 10**(3 * millidx), millnames[millidx])\n"
   ]
  },
  {
   "cell_type": "code",
   "execution_count": 8,
   "metadata": {},
   "outputs": [
    {
     "name": "stdout",
     "output_type": "stream",
     "text": [
      "Number of galaxies = 18015789 = 18 Million\n"
     ]
    }
   ],
   "source": [
    "ngal = len(data)\n",
    "print(f'Number of galaxies = {ngal} = {millify(ngal)}')"
   ]
  },
  {
   "cell_type": "markdown",
   "metadata": {},
   "source": [
    "### Magnitude distribution (r-band)"
   ]
  },
  {
   "cell_type": "code",
   "execution_count": 9,
   "metadata": {},
   "outputs": [
    {
     "data": {
      "image/png": "[encoded data removed]",
      "text/plain": [
       "<Figure size 432x288 with 1 Axes>"
      ]
     },
     "metadata": {
      "needs_background": "light"
     },
     "output_type": "display_data"
    }
   ],
   "source": [
    "fig, (ax) = plt.subplots(1, 1)\n",
    "\n",
    "range = (19.8, 25.5)\n",
    "\n",
    "h = ax.hist(data['mag'], bins=100, density=True, range=range)\n",
    "plt.title('UNIONS-800 deg$^2$ + SP')\n",
    "plt.xlabel('$r$ (ShapePipe)')\n",
    "plt.xticks(ticks=[20, 21, 22, 23, 24, 25])\n",
    "_ = plt.ylabel('frequency')"
   ]
  },
  {
   "cell_type": "markdown",
   "metadata": {},
   "source": [
    "### Read multi-band UNIONS catalogue"
   ]
  },
  {
   "cell_type": "code",
   "execution_count": 10,
   "metadata": {},
   "outputs": [],
   "source": [
    "# UNIONS\n",
    "\n",
    "# Full catalogue\n",
    "base_name_ph = 'unions.ugriz2'\n",
    "\n",
    "# Smaller catalogue\n",
    "#base_name_ph = 'unions.ugriz_1M'\n",
    "\n",
    "cat_ph = pd.read_csv(f'{base_name_ph}.tsv', delimiter='\\s+')"
   ]
  },
  {
   "cell_type": "code",
   "execution_count": 11,
   "metadata": {},
   "outputs": [
    {
     "name": "stdout",
     "output_type": "stream",
     "text": [
      "Keys in UNIONS catalogue:\n",
      "Index(['RA', 'Dec', 'CFIS_ID', 'CFIS_U_MAG_AUTO', 'CFIS_U_MAGERR_AUTO',\n",
      "       'HSC_G_MAG_AUTO', 'HSC_G_MAGERR_AUTO', 'CFIS_R_MAG_AUTO',\n",
      "       'CFIS_R_MAGERR_AUTO', 'PS_i_stk_kron', 'PS_i_stk_kron_err',\n",
      "       'PS_z_stk_kron', 'PS_z_stk_kron_err', 'CFIS_R_StarGal'],\n",
      "      dtype='object')\n",
      "Number of UNIONS objects = 71948699\n"
     ]
    }
   ],
   "source": [
    "print('Keys in UNIONS catalogue:')\n",
    "mb_keys = cat_ph.keys()\n",
    "print(mb_keys)\n",
    "print(f'Number of UNIONS objects = {len(cat_ph)}')"
   ]
  },
  {
   "cell_type": "markdown",
   "metadata": {},
   "source": [
    "### Match the two catalogues acording to the CFIS galaxy ID"
   ]
  },
  {
   "cell_type": "code",
   "execution_count": 12,
   "metadata": {},
   "outputs": [],
   "source": [
    "# Transform IDs back to int\n",
    "cfis_id = data['CFIS_ID'].astype(int)"
   ]
  },
  {
   "cell_type": "code",
   "execution_count": 13,
   "metadata": {},
   "outputs": [],
   "source": [
    "# Get indices of matches\n",
    "xy, x_ind, y_ind = np.intersect1d(cfis_id, cat_ph['CFIS_ID'], return_indices=True)"
   ]
  },
  {
   "cell_type": "code",
   "execution_count": 14,
   "metadata": {},
   "outputs": [
    {
     "name": "stdout",
     "output_type": "stream",
     "text": [
      "[2000240003934 2000240003986 2000240004011 2000240004028 2000240004036\n",
      " 2000240004046 2000240004101 2000240004115 2000240004117 2000240004130]\n",
      "0     2000240003934\n",
      "21    2000240003986\n",
      "38    2000240004011\n",
      "44    2000240004028\n",
      "48    2000240004036\n",
      "56    2000240004046\n",
      "84    2000240004101\n",
      "87    2000240004115\n",
      "89    2000240004117\n",
      "96    2000240004130\n",
      "Name: CFIS_ID, dtype: int64\n"
     ]
    }
   ],
   "source": [
    "# Check\n",
    "print(cfis_id[x_ind][:10])\n",
    "print(cat_ph['CFIS_ID'][y_ind][:10])"
   ]
  },
  {
   "cell_type": "code",
   "execution_count": 15,
   "metadata": {},
   "outputs": [
    {
     "data": {
      "text/plain": [
       "18008780"
      ]
     },
     "execution_count": 15,
     "metadata": {},
     "output_type": "execute_result"
    }
   ],
   "source": [
    "len(cat_ph['CFIS_ID'][y_ind])"
   ]
  },
  {
   "cell_type": "code",
   "execution_count": 16,
   "metadata": {},
   "outputs": [
    {
     "data": {
      "text/plain": [
       "18015789"
      ]
     },
     "execution_count": 16,
     "metadata": {},
     "output_type": "execute_result"
    }
   ],
   "source": [
    "len(data)"
   ]
  },
  {
   "cell_type": "code",
   "execution_count": 17,
   "metadata": {},
   "outputs": [
    {
     "name": "stdout",
     "output_type": "stream",
     "text": [
      "ra\n",
      "dec\n",
      "g1\n",
      "g2\n",
      "w\n",
      "mag\n",
      "snr\n",
      "g1_uncal\n",
      "g2_uncal\n",
      "CFIS_ID\n",
      "RA\n",
      "Dec\n",
      "distance\n"
     ]
    }
   ],
   "source": [
    "# Create column array for SP catalogue\n",
    "cols = []\n",
    "for key in data_keys:\n",
    "    print(key)\n",
    "    if key != 'CFIS_ID':\n",
    "        c = fits.Column(name=key, format='D', array=data[x_ind][key])\n",
    "    else:\n",
    "        dat = cfis_id\n",
    "        c = fits.Column(name=key, format='I64', array=dat[x_ind])\n",
    "    cols.append(c)"
   ]
  },
  {
   "cell_type": "code",
   "execution_count": 18,
   "metadata": {},
   "outputs": [
    {
     "name": "stdout",
     "output_type": "stream",
     "text": [
      "CFIS_ID_mb\n",
      "CFIS_U_MAG_AUTO\n",
      "CFIS_U_MAGERR_AUTO\n",
      "HSC_G_MAG_AUTO\n",
      "HSC_G_MAGERR_AUTO\n",
      "CFIS_R_MAG_AUTO\n",
      "CFIS_R_MAGERR_AUTO\n",
      "PS_i_stk_kron\n",
      "PS_i_stk_kron_err\n",
      "PS_z_stk_kron\n",
      "PS_z_stk_kron_err\n",
      "CFIS_R_StarGal\n"
     ]
    }
   ],
   "source": [
    "# Append columns from multi-band catalogue\n",
    "for idx, key in enumerate(mb_keys):\n",
    "    if key in ['RA', 'Dec']:\n",
    "        # Coordinates in the matched MB+SP catalogue are exactly the same,\n",
    "        # so we don't need them again\n",
    "        continue\n",
    "    elif key == 'CFIS_ID':\n",
    "        # Add mb CFIS_ID for consistency check later\n",
    "        key2 = f'{key}_mb'\n",
    "    else:\n",
    "        key2 = key\n",
    "    print(key2)\n",
    "    c = fits.Column(name=key2, format=cat_ph.dtypes[idx], array=cat_ph[key][y_ind])\n",
    "    cols.append(c)"
   ]
  },
  {
   "cell_type": "code",
   "execution_count": null,
   "metadata": {},
   "outputs": [],
   "source": [
    "out_name = 'cfis_800d2_SP_v1.0.fits'\n",
    "hdu_out = fits.BinTableHDU.from_columns(cols)\n",
    "hdu_out.writeto(out_name)"
   ]
  },
  {
   "cell_type": "code",
   "execution_count": null,
   "metadata": {},
   "outputs": [],
   "source": [
    "print('Saved FITS file f{out_name}')"
   ]
  }
 ],
 "metadata": {
  "kernelspec": {
   "display_name": "Python 3",
   "language": "python",
   "name": "python3"
  },
  "language_info": {
   "codemirror_mode": {
    "name": "ipython",
    "version": 3
   },
   "file_extension": ".py",
   "mimetype": "text/x-python",
   "name": "python",
   "nbconvert_exporter": "python",
   "pygments_lexer": "ipython3",
   "version": "3.7.9"
  }
 },
 "nbformat": 4,
 "nbformat_minor": 5
}
